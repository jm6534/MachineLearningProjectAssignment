{
  "nbformat": 4,
  "nbformat_minor": 0,
  "metadata": {
    "accelerator": "GPU",
    "colab": {
      "name": "Assignment08.ipynb",
      "provenance": [],
      "collapsed_sections": [],
      "toc_visible": true
    },
    "kernelspec": {
      "display_name": "Python 3",
      "language": "python",
      "name": "python3"
    },
    "language_info": {
      "codemirror_mode": {
        "name": "ipython",
        "version": 3
      },
      "file_extension": ".py",
      "mimetype": "text/x-python",
      "name": "python",
      "nbconvert_exporter": "python",
      "pygments_lexer": "ipython3",
      "version": "3.7.1"
    }
  },
  "cells": [
    {
      "cell_type": "markdown",
      "metadata": {
        "colab_type": "text",
        "id": "EOro3YNhQZs7"
      },
      "source": [
        "### Binary classification based on 3 layers neural network\n",
        "#### author: Kim Jeong Min"
      ]
    },
    {
      "cell_type": "markdown",
      "metadata": {
        "colab_type": "text",
        "id": "KIFz7H8yQZs9"
      },
      "source": [
        "##### load images"
      ]
    },
    {
      "cell_type": "code",
      "metadata": {
        "colab_type": "code",
        "id": "3u1rh-hqQZs9",
        "colab": {}
      },
      "source": [
        "import torch\n",
        "from torch.utils.data import Dataset, DataLoader\n",
        "import torchvision.transforms as transforms\n",
        "import torchvision.datasets\n",
        "import torchvision\n",
        "import os\n",
        "import numpy as np\n",
        "import matplotlib.pyplot as plt\n",
        "import matplotlib.pylab as pl\n",
        "\n",
        "import torch.nn as nn\n",
        "import torch.nn.functional as F\n",
        "import torch.optim as optim\n",
        "import torch.backends.cudnn as cudnn\n",
        "import argparse\n",
        "import sys\n",
        "import os\n",
        "import numpy as np\n",
        "import time\n",
        "import datetime \n",
        "import csv\n",
        "import configparser\n",
        "import argparse\n",
        "import platform\n",
        "\n",
        "from torch.autograd import Variable\n",
        "import random\n",
        "from random import shuffle\n",
        "\n",
        "import math\n",
        "import torch.utils.data as data_utils\n",
        "\n",
        "from PIL import Image"
      ],
      "execution_count": 0,
      "outputs": []
    },
    {
      "cell_type": "code",
      "metadata": {
        "colab_type": "code",
        "id": "_Lf7hA6zQZtA",
        "colab": {}
      },
      "source": [
        "class Autoencoder(nn.Module):\n",
        "    def __init__(self, channels, num_of_layers=17):\n",
        "        super(Autoencoder, self).__init__()\n",
        "        kernel_size = 3\n",
        "        padding = 1\n",
        "        features = 64\n",
        "        layers = []\n",
        "        layers.append(nn.Conv2d(in_channels=channels, out_channels=features, kernel_size=kernel_size, padding=padding, bias=False))\n",
        "        layers.append(nn.ReLU(inplace=True))\n",
        "        for _ in range(num_of_layers-2):\n",
        "            layers.append(nn.Conv2d(in_channels=features, out_channels=features, kernel_size=kernel_size, padding=padding, bias=False))\n",
        "            layers.append(nn.BatchNorm2d(features))\n",
        "            layers.append(nn.ReLU(inplace=True))\n",
        "        layers.append(nn.Conv2d(in_channels=features, out_channels=channels, kernel_size=kernel_size, padding=padding, bias=False))\n",
        "        self.dncnn = nn.Sequential(*layers)\n",
        "\n",
        "    def forward(self, x):\n",
        "        out = self.dncnn(x)\n",
        "        return out"
      ],
      "execution_count": 0,
      "outputs": []
    },
    {
      "cell_type": "code",
      "metadata": {
        "id": "nOUF8WPug-vC",
        "colab_type": "code",
        "colab": {}
      },
      "source": [
        "def add_noise(images):\n",
        "  MEAN = 0\n",
        "  copyed = np.copy(images)\n",
        "  for img in copyed:\n",
        "    sigma = 0.01 * random.randint(1,5)\n",
        "    gaussian = np.random.normal(MEAN, sigma, (img.shape[0],img.shape[1]))\n",
        "    img = img + gaussian\n",
        "  return copyed"
      ],
      "execution_count": 0,
      "outputs": []
    },
    {
      "cell_type": "code",
      "metadata": {
        "colab_type": "code",
        "id": "yhDyBWYVQZtC",
        "colab": {}
      },
      "source": [
        "transform = transforms.Compose([#transforms.Resize((256,256)),  \n",
        "                                transforms.Grayscale(),\t\t# the code transforms.Graysclae() is for changing the size [3,100,100] to [1, 100, 100] (notice : [channel, height, width] )\n",
        "                                transforms.ToTensor(),])\n",
        "\n",
        "\n",
        "#train_data_path = 'relative path of training data set'\n",
        "drive_prefix = 'data08/'\n",
        "train_data_path = drive_prefix + 'train.npy'\n",
        "train_set = np.load(train_data_path)\n",
        "# change the valuse of batch_size, num_workers for your program\n",
        "# if shuffle=True, the data reshuffled at every epoch \n",
        "noised = add_noise(train_set)\n",
        "\n",
        "# make 3d tensor object\n",
        "train_set = torch.from_numpy(train_set).unsqueeze(1)\n",
        "noised = torch.from_numpy(noised).unsqueeze(1)\n",
        "\n",
        "# set feature = noised, target = clean\n",
        "train_dataset = data_utils.TensorDataset(noised, train_set)\n",
        "loader_train = torch.utils.data.DataLoader(train_dataset, batch_size=32, shuffle=True, num_workers=4)  \n",
        "\n",
        "test_data_path = drive_prefix + 'test.npy'\n",
        "test_set = np.load(test_data_path)\n",
        "test_set = torch.from_numpy(test_set).unsqueeze(1)"
      ],
      "execution_count": 0,
      "outputs": []
    },
    {
      "cell_type": "markdown",
      "metadata": {
        "colab_type": "text",
        "id": "qLLNfscxQZtE"
      },
      "source": [
        "##### load neural network model"
      ]
    },
    {
      "cell_type": "code",
      "metadata": {
        "colab_type": "code",
        "id": "9IopWIJWQZtE",
        "scrolled": true,
        "colab": {}
      },
      "source": [
        "model = Autoencoder(channels=1)"
      ],
      "execution_count": 0,
      "outputs": []
    },
    {
      "cell_type": "markdown",
      "metadata": {
        "colab_type": "text",
        "id": "oA41bGU_QZtG"
      },
      "source": [
        "##### Set the flag for using cuda"
      ]
    },
    {
      "cell_type": "code",
      "metadata": {
        "colab_type": "code",
        "id": "J40z1SyRQZtH",
        "colab": {}
      },
      "source": [
        "bCuda = True\n",
        "if bCuda:\n",
        "    model.cuda()"
      ],
      "execution_count": 0,
      "outputs": []
    },
    {
      "cell_type": "markdown",
      "metadata": {
        "colab_type": "text",
        "id": "cCRBLDUhQZtI"
      },
      "source": [
        "##### optimization algorithm"
      ]
    },
    {
      "cell_type": "code",
      "metadata": {
        "colab_type": "code",
        "id": "uN1EBjMBQZtJ",
        "colab": {}
      },
      "source": [
        "LR = 0.001\n",
        "optimizer   = optim.Adam(model.parameters(), lr=LR, weight_decay = 1e-4)\n",
        "objective   = nn.MSELoss()"
      ],
      "execution_count": 0,
      "outputs": []
    },
    {
      "cell_type": "code",
      "metadata": {
        "colab_type": "code",
        "id": "pjXKsB1aQZtL",
        "colab": {}
      },
      "source": [
        "def train():\n",
        "    # print('train the model at given epoch')\n",
        "    loss_train          = []\n",
        "    model.train()\n",
        "    for idx_batch, (data, target) in enumerate(loader_train):\n",
        "        if bCuda:\n",
        "            data, target    = data.cuda(), target.cuda()\n",
        "            \n",
        "        data, target    = Variable(data), Variable(target)\n",
        "        optimizer.zero_grad()\n",
        "        \n",
        "        output  = model(data)\n",
        "        loss    = objective(output, target)\n",
        "\n",
        "        loss.backward()\n",
        "        optimizer.step()\n",
        "\n",
        "        loss_train_batch    = loss.item() / len(data)\n",
        "        loss_train.append(loss_train_batch)\n",
        "        \n",
        "    loss_train_mean     = np.mean(loss_train)\n",
        "    loss_train_std      = np.std(loss_train)\n",
        "\n",
        "    return {'loss_train_mean': loss_train_mean, 'loss_train_std': loss_train_std}"
      ],
      "execution_count": 0,
      "outputs": []
    },
    {
      "cell_type": "markdown",
      "metadata": {
        "colab_type": "text",
        "id": "DAGLuK66QZtN"
      },
      "source": [
        "##### function for testing the model"
      ]
    },
    {
      "cell_type": "code",
      "metadata": {
        "colab_type": "code",
        "id": "Vs6mQq0xQZtO",
        "colab": {}
      },
      "source": [
        "def test():\n",
        "    return model(test_set)"
      ],
      "execution_count": 0,
      "outputs": []
    },
    {
      "cell_type": "markdown",
      "metadata": {
        "colab_type": "text",
        "id": "Uo7bMVqAQZtP"
      },
      "source": [
        "##### iteration for the epoch"
      ]
    },
    {
      "cell_type": "code",
      "metadata": {
        "colab_type": "code",
        "id": "QOV9Rt9JQZtQ",
        "outputId": "2854372e-2a18-4eb5-fccd-f36999200522",
        "colab": {
          "base_uri": "https://localhost:8080/",
          "height": 712
        }
      },
      "source": [
        "epoch = 100\n",
        "loss_train_mean = list()\n",
        "loss_train_std = list()\n",
        "\n",
        "for e in range(epoch):\n",
        "        \n",
        "    result_train    = train()\n",
        "    \n",
        "    result_loss_train_mean = result_train['loss_train_mean']\n",
        "    result_loss_train_std =  result_train['loss_train_std']\n",
        "\n",
        "    loss_train_mean.append( result_loss_train_mean)\n",
        "    loss_train_std.append(  result_loss_train_std)\n",
        "    \n",
        "    epoch_str = '[epoch '+ '{:05d}'.format(e)+ ']  '\n",
        "    epoch_str += 'loss: '+ '(training)' + str(round(result_loss_train_mean, 15))\n",
        "    print(epoch_str)\n",
        "\n",
        "    \n",
        "    #adaptive learning rate\n",
        "    for g in optimizer.param_groups:\n",
        "        g['lr'] = g['lr'] * 0.9985"
      ],
      "execution_count": 53,
      "outputs": [
        {
          "output_type": "stream",
          "text": [
            "[epoch 00000]  loss: (training)0.000434513420444\n",
            "[epoch 00001]  loss: (training)0.000124745268413\n",
            "[epoch 00002]  loss: (training)8.4637640453e-05\n",
            "[epoch 00003]  loss: (training)9.1714857012e-05\n",
            "[epoch 00004]  loss: (training)8.807049806e-05\n",
            "[epoch 00005]  loss: (training)5.4950548092e-05\n",
            "[epoch 00006]  loss: (training)5.4433459967e-05\n",
            "[epoch 00007]  loss: (training)3.99971417e-05\n",
            "[epoch 00008]  loss: (training)5.4754823323e-05\n",
            "[epoch 00009]  loss: (training)5.2407409569e-05\n",
            "[epoch 00010]  loss: (training)5.5153115332e-05\n",
            "[epoch 00011]  loss: (training)5.0097170218e-05\n",
            "[epoch 00012]  loss: (training)4.5162121434e-05\n",
            "[epoch 00013]  loss: (training)4.0743758838e-05\n",
            "[epoch 00014]  loss: (training)3.5237494703e-05\n",
            "[epoch 00015]  loss: (training)4.6597046858e-05\n",
            "[epoch 00016]  loss: (training)4.0919292792e-05\n",
            "[epoch 00017]  loss: (training)3.1099397736e-05\n",
            "[epoch 00018]  loss: (training)3.7202994848e-05\n"
          ],
          "name": "stdout"
        },
        {
          "output_type": "error",
          "ename": "KeyboardInterrupt",
          "evalue": "ignored",
          "traceback": [
            "\u001b[0;31m---------------------------------------------------------------------------\u001b[0m",
            "\u001b[0;31mKeyboardInterrupt\u001b[0m                         Traceback (most recent call last)",
            "\u001b[0;32m<ipython-input-53-f24658d39356>\u001b[0m in \u001b[0;36m<module>\u001b[0;34m()\u001b[0m\n\u001b[1;32m      5\u001b[0m \u001b[0;32mfor\u001b[0m \u001b[0me\u001b[0m \u001b[0;32min\u001b[0m \u001b[0mrange\u001b[0m\u001b[0;34m(\u001b[0m\u001b[0mepoch\u001b[0m\u001b[0;34m)\u001b[0m\u001b[0;34m:\u001b[0m\u001b[0;34m\u001b[0m\u001b[0;34m\u001b[0m\u001b[0m\n\u001b[1;32m      6\u001b[0m \u001b[0;34m\u001b[0m\u001b[0m\n\u001b[0;32m----> 7\u001b[0;31m     \u001b[0mresult_train\u001b[0m    \u001b[0;34m=\u001b[0m \u001b[0mtrain\u001b[0m\u001b[0;34m(\u001b[0m\u001b[0;34m)\u001b[0m\u001b[0;34m\u001b[0m\u001b[0;34m\u001b[0m\u001b[0m\n\u001b[0m\u001b[1;32m      8\u001b[0m \u001b[0;34m\u001b[0m\u001b[0m\n\u001b[1;32m      9\u001b[0m     \u001b[0mresult_loss_train_mean\u001b[0m \u001b[0;34m=\u001b[0m \u001b[0mresult_train\u001b[0m\u001b[0;34m[\u001b[0m\u001b[0;34m'loss_train_mean'\u001b[0m\u001b[0;34m]\u001b[0m\u001b[0;34m\u001b[0m\u001b[0;34m\u001b[0m\u001b[0m\n",
            "\u001b[0;32m<ipython-input-51-ed8826921da8>\u001b[0m in \u001b[0;36mtrain\u001b[0;34m()\u001b[0m\n\u001b[1;32m     16\u001b[0m         \u001b[0moptimizer\u001b[0m\u001b[0;34m.\u001b[0m\u001b[0mstep\u001b[0m\u001b[0;34m(\u001b[0m\u001b[0;34m)\u001b[0m\u001b[0;34m\u001b[0m\u001b[0;34m\u001b[0m\u001b[0m\n\u001b[1;32m     17\u001b[0m \u001b[0;34m\u001b[0m\u001b[0m\n\u001b[0;32m---> 18\u001b[0;31m         \u001b[0mloss_train_batch\u001b[0m    \u001b[0;34m=\u001b[0m \u001b[0mloss\u001b[0m\u001b[0;34m.\u001b[0m\u001b[0mitem\u001b[0m\u001b[0;34m(\u001b[0m\u001b[0;34m)\u001b[0m \u001b[0;34m/\u001b[0m \u001b[0mlen\u001b[0m\u001b[0;34m(\u001b[0m\u001b[0mdata\u001b[0m\u001b[0;34m)\u001b[0m\u001b[0;34m\u001b[0m\u001b[0;34m\u001b[0m\u001b[0m\n\u001b[0m\u001b[1;32m     19\u001b[0m         \u001b[0mloss_train\u001b[0m\u001b[0;34m.\u001b[0m\u001b[0mappend\u001b[0m\u001b[0;34m(\u001b[0m\u001b[0mloss_train_batch\u001b[0m\u001b[0;34m)\u001b[0m\u001b[0;34m\u001b[0m\u001b[0;34m\u001b[0m\u001b[0m\n\u001b[1;32m     20\u001b[0m \u001b[0;34m\u001b[0m\u001b[0m\n",
            "\u001b[0;31mKeyboardInterrupt\u001b[0m: "
          ]
        }
      ]
    },
    {
      "cell_type": "markdown",
      "metadata": {
        "colab_type": "text",
        "id": "f1Ri6ILMQZtU"
      },
      "source": [
        "##### plot result"
      ]
    },
    {
      "cell_type": "code",
      "metadata": {
        "colab_type": "code",
        "id": "JIPGvOdYQZtU",
        "colab": {}
      },
      "source": [
        "def print_history_graph(loss_history, loss_train_std):\n",
        "    #plt.plot(loss_history, color='#ff0000', label='Train Loss')\n",
        "    plt.errorbar(list(range(len(loss_history))), loss_history, yerr=loss_train_std, ecolor = '#ffcccc', color='#ff0000', label='Train Loss')\n",
        "    plt.legend(['Train Loss'])\n",
        "    plt.title('Loss')\n",
        "    plt.show()"
      ],
      "execution_count": 0,
      "outputs": []
    },
    {
      "cell_type": "code",
      "metadata": {
        "colab_type": "code",
        "id": "wrXL9tkiQZtW",
        "colab": {}
      },
      "source": [
        "print_history_graph(loss_train_mean, loss_train_std)"
      ],
      "execution_count": 0,
      "outputs": []
    },
    {
      "cell_type": "code",
      "metadata": {
        "id": "BNTv2Lnp-r_s",
        "colab_type": "code",
        "colab": {}
      },
      "source": [
        "result_test = model(test_set.cuda())"
      ],
      "execution_count": 0,
      "outputs": []
    },
    {
      "cell_type": "code",
      "metadata": {
        "id": "a7ycSwot_Q6D",
        "colab_type": "code",
        "colab": {}
      },
      "source": [
        "result_img = result_test.squeeze(1)\n",
        "test_noised = test_set.squeeze(1)"
      ],
      "execution_count": 0,
      "outputs": []
    },
    {
      "cell_type": "code",
      "metadata": {
        "id": "_zA44Dv4TbgX",
        "colab_type": "code",
        "colab": {}
      },
      "source": [
        "max_iter = 10\n",
        "itr = 0\n",
        "\n",
        "fig, ax = plt.subplots(nrows=1, ncols=2, figsize=(9, 7))\n",
        "to_img  = transforms.ToPILImage()\n",
        "\n",
        "\n",
        "for i in range(len(result_img)):\n",
        "    nosied_image = test_noised[i].cpu().detach().numpy()\n",
        "    image = result_img[i].cpu().detach().numpy()\n",
        "\n",
        "    #nosied_image = to_img(nosied_image)\n",
        "    #image = to_img(image)\n",
        "    \n",
        "    ax[0].imshow(nosied_image, cmap='gray')\n",
        "    ax[1].imshow(image, cmap='gray')\n",
        "\n",
        "    fig.show()\n",
        "    #fig.canvas.draw()\n",
        "    \n",
        "    itr += 1\n",
        "    if max_iter <= itr:\n",
        "        break;"
      ],
      "execution_count": 0,
      "outputs": []
    }
  ]
}