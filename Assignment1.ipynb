{
 "cells": [
  {
   "cell_type": "code",
   "execution_count": 1,
   "metadata": {},
   "outputs": [],
   "source": [
    "import numpy as np\n",
    "import matplotlib.pyplot as plt"
   ]
  },
  {
   "cell_type": "markdown",
   "metadata": {},
   "source": [
    "##### generate clusters"
   ]
  },
  {
   "cell_type": "code",
   "execution_count": 2,
   "metadata": {},
   "outputs": [],
   "source": [
    "c1_mean = 2\n",
    "c1_std = 2\n",
    "c2_mean = -2\n",
    "c2_std = 2\n",
    "\n",
    "train_c1_x = np.random.normal(c1_mean, c1_std, 100)\n",
    "train_c1_y = np.random.normal(c1_mean, c1_std, 100)\n",
    "train_c2_x = np.random.normal(c2_mean, c2_std, 100)\n",
    "train_c2_y = np.random.normal(c2_mean, c2_std, 100)\n",
    "test_c1_x = np.random.normal(c1_mean, c1_std, 100)\n",
    "test_c1_y = np.random.normal(c1_mean, c1_std, 100)\n",
    "test_c2_x = np.random.normal(c2_mean, c2_std, 100)\n",
    "test_c2_y = np.random.normal(c2_mean, c2_std, 100)\n",
    "\n",
    "train_c1 = np.vstack((train_c1_x, train_c1_y)).T\n",
    "train_c2 = np.vstack((train_c2_x, train_c2_y)).T\n",
    "test_c1 = np.vstack((test_c1_x, test_c1_y)).T\n",
    "test_c2 = np.vstack((test_c2_x, test_c2_y)).T"
   ]
  },
  {
   "cell_type": "markdown",
   "metadata": {},
   "source": [
    "##### plot the clusters"
   ]
  },
  {
   "cell_type": "code",
   "execution_count": 3,
   "metadata": {},
   "outputs": [
    {
     "data": {
      "image/png": "[encoded data removed]",
      "text/plain": [
       "<Figure size 432x288 with 1 Axes>"
      ]
     },
     "metadata": {
      "needs_background": "light"
     },
     "output_type": "display_data"
    }
   ],
   "source": [
    "plt.scatter(*zip(*train_c1), c='#ff5555')\n",
    "plt.scatter(*zip(*train_c2), c='#5555ff')\n",
    "plt.scatter(*zip(*test_c1), c='#ff11bb')\n",
    "plt.scatter(*zip(*test_c2), c='#11bbff')\n",
    "\n",
    "plt.show()"
   ]
  },
  {
   "cell_type": "markdown",
   "metadata": {},
   "source": [
    "##### def sigmoid"
   ]
  },
  {
   "cell_type": "code",
   "execution_count": 4,
   "metadata": {},
   "outputs": [],
   "source": [
    "def sigmoid(z):\n",
    "    return 1 / (1 + np.exp(-z))"
   ]
  },
  {
   "cell_type": "markdown",
   "metadata": {},
   "source": [
    "##### define loss function"
   ]
  },
  {
   "cell_type": "code",
   "execution_count": 5,
   "metadata": {},
   "outputs": [],
   "source": [
    "def get_diff(target_label, point, u ,v ,b):\n",
    "    x, y = point[0], point[1]\n",
    "    res = -(target_label * np.log(sigmoid(u*x + v*y + b)) + (1-target_label)*np.log(1-sigmoid(u*x + v*y + b)))\n",
    "    return res\n",
    "\n",
    "def get_loss(c1, c2, u, v, b):\n",
    "    res = 0\n",
    "    for c1_point in c1:\n",
    "        res += get_diff(0, c1_point, u ,v ,b)\n",
    "    for c2_point in c2:\n",
    "        res += get_diff(1, c2_point, u ,v ,b)\n",
    "    return res\n",
    "    \n",
    "def get_acc(c1, c2, u, v, b):\n",
    "    total = 0    \n",
    "    correct = 0\n",
    "    for point in c1:\n",
    "        res = (sigmoid(u*point[0] + v*point[1] + b) <= 1/2)\n",
    "        total += 1\n",
    "        if res:\n",
    "             correct += 1\n",
    "    for point in c2:\n",
    "        res = (sigmoid(u*point[0] + v*point[1] + b) > 1/2)\n",
    "        total += 1\n",
    "        if res:\n",
    "             correct += 1\n",
    "    return correct/total"
   ]
  },
  {
   "cell_type": "markdown",
   "metadata": {},
   "source": [
    "##### gradient descent"
   ]
  },
  {
   "cell_type": "code",
   "execution_count": 6,
   "metadata": {},
   "outputs": [],
   "source": [
    "u,v,b = 0,0,0\n",
    "k = 0.00002 # how far from previous iteration\n",
    "\n",
    "train_loss_list = list()\n",
    "train_acc_list = list()\n",
    "test_loss_list = list()\n",
    "test_acc_list = list()\n",
    "\n",
    "TRESH_HOLD = 0.001\n",
    "MAX_ITERATION = 100000\n",
    "iteration = 0\n",
    "while True:\n",
    "    prev_loss = 0\n",
    "    loss = get_loss(train_c1, train_c2, u, v, b)\n",
    "    acc = get_acc(train_c1, train_c2, u, v, b)\n",
    "    test_loss = get_loss(test_c1, test_c2, u,v,b)\n",
    "    test_acc = get_acc(test_c1, test_c2, u,v,b)\n",
    "    # print(\"u:\" + str(u))\n",
    "    # print(\"v:\" + str(v))\n",
    "    # print(\"b:\" + str(b))\n",
    "    # print(\"acc:\" + str(acc))\n",
    "    # print(\"loss:\" + str(loss))\n",
    "    if abs(prev_loss-loss) < TRESH_HOLD or iteration >= MAX_ITERATION:\n",
    "        break\n",
    "    train_loss_list.append(loss)\n",
    "    train_acc_list.append(acc)\n",
    "    test_loss_list.append(test_loss)\n",
    "    test_acc_list.append(test_acc)\n",
    "    prev_loss = loss\n",
    "    \n",
    "    u_direction, v_direction, b_direction = 0, 0 ,0\n",
    "    for point in train_c1:\n",
    "        x, y = point[0], point[1]\n",
    "        label = 0\n",
    "        u_direction += (sigmoid(u*x + v*y + b)- label) * x \n",
    "        v_direction += (sigmoid(u*x + v*y + b)- label) * y\n",
    "        b_direction += (sigmoid(u*x + v*y + b)- label) * 1\n",
    "    for point in train_c2:\n",
    "        x, y = point[0], point[1]\n",
    "        label = 1\n",
    "        u_direction += (sigmoid(u*x + v*y + b)- label) * x \n",
    "        v_direction += (sigmoid(u*x + v*y + b)- label) * y\n",
    "        b_direction += (sigmoid(u*x + v*y + b)- label) * 1\n",
    "    if u_direction < 0:\n",
    "        u += k\n",
    "    elif u_direction > 0:\n",
    "        u -= k\n",
    "    if v_direction < 0:\n",
    "        v += k\n",
    "    elif v_direction > 0:\n",
    "        v -= k\n",
    "    if b_direction < 0:\n",
    "        b += k\n",
    "    elif b_direction > 0:\n",
    "        b -= k\n",
    "    iteration += 1"
   ]
  },
  {
   "cell_type": "markdown",
   "metadata": {},
   "source": [
    "##### plot the accuracy, loss"
   ]
  },
  {
   "cell_type": "code",
   "execution_count": 7,
   "metadata": {},
   "outputs": [
    {
     "data": {
      "image/png": "[encoded data removed]",
      "text/plain": [
       "<Figure size 432x288 with 1 Axes>"
      ]
     },
     "metadata": {
      "needs_background": "light"
     },
     "output_type": "display_data"
    },
    {
     "data": {
      "image/png": "[encoded data removed]",
      "text/plain": [
       "<Figure size 432x288 with 1 Axes>"
      ]
     },
     "metadata": {
      "needs_background": "light"
     },
     "output_type": "display_data"
    }
   ],
   "source": [
    "plt.plot(train_loss_list, color='#ff0000', label='Train Loss')\n",
    "plt.plot(test_loss_list, color='#0000ff', label='Test Loss')\n",
    "plt.legend(['Train Loss','Test Loss'])\n",
    "plt.title('Loss')\n",
    "plt.show()\n",
    "\n",
    "plt.plot(train_acc_list, color='#ff0000', label='Train Accuracy')\n",
    "plt.plot(test_acc_list, color='#0000ff', label='Test Accuracy')\n",
    "plt.legend(['Train Accuracy','Test Accuracy'])\n",
    "plt.title('Accuracy')\n",
    "plt.show()"
   ]
  }
 ],
 "metadata": {
  "kernelspec": {
   "display_name": "Python 3",
   "language": "python",
   "name": "python3"
  },
  "language_info": {
   "codemirror_mode": {
    "name": "ipython",
    "version": 3
   },
   "file_extension": ".py",
   "mimetype": "text/x-python",
   "name": "python",
   "nbconvert_exporter": "python",
   "pygments_lexer": "ipython3",
   "version": "3.7.1"
  }
 },
 "nbformat": 4,
 "nbformat_minor": 2
}
